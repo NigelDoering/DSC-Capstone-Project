{
 "cells": [
  {
   "cell_type": "code",
   "execution_count": null,
   "metadata": {},
   "outputs": [],
   "source": [
    "import pandas as pd\n",
    "import matplotlib.pyplot as plt\n",
    "import os\n",
    "import seaborn as sns\n",
    "import re\n",
    "import sys\n",
    "import json\n",
    "from IPython.display import Image, display\n",
    "os.chdir('..')\n",
    "import pickle"
   ]
  },
  {
   "cell_type": "code",
   "execution_count": null,
   "metadata": {},
   "outputs": [],
   "source": [
    "with open('config/analysis-params.json') as fh:\n",
    "    analysis_cfg = json.load(fh)"
   ]
  },
  {
   "cell_type": "markdown",
   "metadata": {},
   "source": [
    "# Analysis"
   ]
  },
  {
   "cell_type": "markdown",
   "metadata": {},
   "source": [
    "Here are the top hashtags."
   ]
  },
  {
   "cell_type": "code",
   "execution_count": null,
   "metadata": {},
   "outputs": [],
   "source": [
    "df = pd.read_csv(os.path.join(analysis_cfg['outdir'], 'top_hashtags.csv'))\n",
    "df = df.rename(columns={'Unnamed: 0': 'hashtag'}).set_index('hashtag')\n",
    "df"
   ]
  },
  {
   "cell_type": "markdown",
   "metadata": {},
   "source": [
    "Here are the intermediate steps to calculating hashtag polarities."
   ]
  },
  {
   "cell_type": "code",
   "execution_count": null,
   "metadata": {},
   "outputs": [],
   "source": [
    "df = pd.read_csv(os.path.join(analysis_cfg['outdir'], 'occ_rates.csv'))\n",
    "df = df.drop(columns=['Unnamed: 0']).rename(columns={'index': 'hashtag'}).set_index('hashtag')\n",
    "df"
   ]
  },
  {
   "cell_type": "code",
   "execution_count": null,
   "metadata": {},
   "outputs": [],
   "source": [
    "analysis_cfg\n",
    "\n",
    "print('Dimensions: ')\n",
    "for dim in analysis_cfg['marker_hashtags'].keys():\n",
    "    print(dim)\n",
    "    print('positive hashtags: {}'.format(analysis_cfg['marker_hashtags'][dim][0]))\n",
    "    print('negative hashtags: {}'.format(analysis_cfg['marker_hashtags'][dim][1]))\n",
    "    print()"
   ]
  },
  {
   "cell_type": "markdown",
   "metadata": {},
   "source": [
    "Here are the hashtag polarities."
   ]
  },
  {
   "cell_type": "code",
   "execution_count": null,
   "metadata": {},
   "outputs": [],
   "source": [
    "df = pd.read_csv(os.path.join(analysis_cfg['outdir'], 'polarities.csv'))\n",
    "print(os.path.join(analysis_cfg['outdir'], 'polarities.csv'))\n",
    "df = df.drop(columns=['Unnamed: 0']).rename(columns={'index': 'hashtag'}).set_index('hashtag')\n",
    "df"
   ]
  },
  {
   "cell_type": "markdown",
   "metadata": {},
   "source": [
    "Here are the user polarities."
   ]
  },
  {
   "cell_type": "code",
   "execution_count": null,
   "metadata": {},
   "outputs": [],
   "source": [
    "for tweet_id in analysis_cfg['tweet_ids']:\n",
    "    name = 'tweet_{}_user_polarities.csv'.format(tweet_id)\n",
    "    df = pd.read_csv(os.path.join(analysis_cfg['outdir'], name))\n",
    "    display(df.drop(columns={'Unnamed: 0': 'hashtag'}).set_index('user_id'))"
   ]
  },
  {
   "cell_type": "code",
   "execution_count": null,
   "metadata": {},
   "outputs": [],
   "source": []
  }
 ],
 "metadata": {
  "kernelspec": {
   "display_name": "Python 3",
   "language": "python",
   "name": "python3"
  },
  "language_info": {
   "codemirror_mode": {
    "name": "ipython",
    "version": 3
   },
   "file_extension": ".py",
   "mimetype": "text/x-python",
   "name": "python",
   "nbconvert_exporter": "python",
   "pygments_lexer": "ipython3",
   "version": "3.7.6"
  }
 },
 "nbformat": 4,
 "nbformat_minor": 4
}
