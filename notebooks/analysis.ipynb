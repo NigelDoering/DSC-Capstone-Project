{
 "cells": [
  {
   "cell_type": "code",
   "execution_count": null,
   "metadata": {},
   "outputs": [],
   "source": [
    "import pandas as pd\n",
    "import matplotlib.pyplot as plt\n",
    "import os\n",
    "import seaborn as sns\n",
    "import re\n",
    "import sys\n",
    "import json\n",
    "from IPython.display import Image, display\n",
    "os.chdir('..')"
   ]
  },
  {
   "cell_type": "code",
   "execution_count": null,
   "metadata": {},
   "outputs": [],
   "source": [
    "with open('config/analysis-params.json') as fh:\n",
    "    analysis_cfg = json.load(fh)"
   ]
  },
  {
   "cell_type": "markdown",
   "metadata": {},
   "source": [
    "# Analysis"
   ]
  },
  {
   "cell_type": "markdown",
   "metadata": {},
   "source": [
    "#### Hashtag Polarities"
   ]
  },
  {
   "cell_type": "code",
   "execution_count": null,
   "metadata": {},
   "outputs": [],
   "source": [
    "print('The marker hashtags that were used were: ')\n",
    "for hashtag in analysis_cfg['marker_hashtags']:\n",
    "    print(hashtag)\n",
    "s = pd.read_csv(os.path.join(analysis_cfg['outdir'], 'metrics.csv'))\n",
    "print()\n",
    "print('Total tweets: {}'.format(s.iloc[0, 1]))\n",
    "print('Subset tweets: {}'.format(s.iloc[1, 1]))"
   ]
  },
  {
   "cell_type": "code",
   "execution_count": null,
   "metadata": {},
   "outputs": [],
   "source": [
    "df = pd.read_csv(os.path.join(analysis_cfg['outdir'], 'hashtag_polarities.csv'))\n",
    "df = df.rename(columns={'index': 'hashtag'}).set_index('hashtag')\n",
    "df"
   ]
  },
  {
   "cell_type": "markdown",
   "metadata": {},
   "source": [
    "#### User Polarities"
   ]
  },
  {
   "cell_type": "code",
   "execution_count": null,
   "metadata": {
    "scrolled": true
   },
   "outputs": [],
   "source": [
    "df = pd.read_csv(os.path.join(analysis_cfg['outdir'], 'user_polarities.csv'), usecols=['user/id', 'polarity'])\n",
    "df = df.set_index('user/id')\n",
    "df"
   ]
  },
  {
   "cell_type": "markdown",
   "metadata": {},
   "source": [
    "#### Famous Tweets"
   ]
  },
  {
   "cell_type": "code",
   "execution_count": null,
   "metadata": {},
   "outputs": [],
   "source": [
    "for tweet_id in analysis_cfg['tweet_ids']:\n",
    "    path = os.path.join(analysis_cfg['data_path'], 'tweet_{}.csv'.format(tweet_id))\n",
    "    df = pd.read_csv(path, usecols=['cat', 'data']).set_index('cat')['data']\n",
    "    print('Username: {}'.format(df['username']))\n",
    "    print('Text: {}'.format(df['text']))\n",
    "    print('Retweet count: {}'.format(df['retweet_count']))\n",
    "    display(Image(filename=os.path.join(analysis_cfg['outdir'], 'tweets_polarity_histogram_{}.png'.format(tweet_id))))"
   ]
  }
 ],
 "metadata": {
  "kernelspec": {
   "display_name": "Python 3",
   "language": "python",
   "name": "python3"
  },
  "language_info": {
   "codemirror_mode": {
    "name": "ipython",
    "version": 3
   },
   "file_extension": ".py",
   "mimetype": "text/x-python",
   "name": "python",
   "nbconvert_exporter": "python",
   "pygments_lexer": "ipython3",
   "version": "3.7.6"
  }
 },
 "nbformat": 4,
 "nbformat_minor": 4
}
