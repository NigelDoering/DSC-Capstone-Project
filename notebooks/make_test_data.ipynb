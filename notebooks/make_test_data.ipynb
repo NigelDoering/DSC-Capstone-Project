{
 "cells": [
  {
   "cell_type": "code",
   "execution_count": null,
   "metadata": {},
   "outputs": [],
   "source": [
    "import pandas as pd\n",
    "import matplotlib.pyplot as plt\n",
    "import os\n",
    "import seaborn as sns\n",
    "import re\n",
    "import sys\n",
    "import json\n",
    "from IPython.display import Image, display"
   ]
  },
  {
   "cell_type": "markdown",
   "metadata": {},
   "source": [
    "# Tweets"
   ]
  },
  {
   "cell_type": "code",
   "execution_count": null,
   "metadata": {},
   "outputs": [],
   "source": [
    "created_at_test_data = [\n",
    "    'Sun Mar 22 05:52:00 +0000 2020',\n",
    "    'Sun Mar 22 05:52:00 +0000 2020',\n",
    "    'Mon Mar 23 05:52:00 +0000 2020',\n",
    "    'Mon Mar 23 05:52:00 +0000 2020',\n",
    "    'Mon Mar 23 05:52:00 +0000 2020',\n",
    "    'Tue Mar 24 05:52:00 +0000 2020',\n",
    "]*2\n",
    "len(created_at_test_data)"
   ]
  },
  {
   "cell_type": "code",
   "execution_count": null,
   "metadata": {},
   "outputs": [],
   "source": [
    "ids_test_data = [\n",
    "    25,\n",
    "    26,\n",
    "    27,\n",
    "    28,\n",
    "    29,\n",
    "    32,\n",
    "    33,\n",
    "    34,\n",
    "    35,\n",
    "    36,\n",
    "    37,\n",
    "    38,\n",
    "]\n",
    "len(ids_test_data)"
   ]
  },
  {
   "cell_type": "code",
   "execution_count": null,
   "metadata": {},
   "outputs": [],
   "source": [
    "user_ids_test_data = [\n",
    "    14,\n",
    "    14,\n",
    "    12,\n",
    "    15,\n",
    "    16,\n",
    "    16,\n",
    "    17,\n",
    "    18,\n",
    "    18,\n",
    "    19,\n",
    "    20,\n",
    "    25\n",
    "]"
   ]
  },
  {
   "cell_type": "code",
   "execution_count": null,
   "metadata": {},
   "outputs": [],
   "source": [
    "len(user_ids_test_data)"
   ]
  },
  {
   "cell_type": "code",
   "execution_count": null,
   "metadata": {},
   "outputs": [],
   "source": [
    "hashtags_test_data = []\n",
    "hts = [\n",
    "    ['hoax', 'trump', 'cnn', ],\n",
    "    ['hoax', 'trump'],\n",
    "    ['wuHaNviRus', 'trump', 'socialdistancing'],\n",
    "    ['chInAvirUs', 'trump'],\n",
    "    ['coronavirus', 'cnn', 'StayAtHome'],\n",
    "    ['coronavirus', 'trump', 'cnn', 'StayAtHome'],\n",
    "    ['coronavirus', 'trump', 'cnn', 'StayAtHome'],\n",
    "    ['coronavirus', 'StayAtHome'],\n",
    "    ['coronavirus', 'StayAtHome', 'socialdistancing'],\n",
    "    ['coronavirus', 'StayAtHome'],\n",
    "    ['coronavirus', 'StayAtHome'],\n",
    "    ['coronavirus','StayAtHome']\n",
    "]\n",
    "    \n",
    "for i in range(len(hts)):\n",
    "    lst = []\n",
    "    for j in range(len(hts[i])):\n",
    "        lst.append({'text': hts[i][j], 'indices': [0, 1]})\n",
    "    hashtags_test_data.append(str(lst))\n",
    "hashtags_test_data"
   ]
  },
  {
   "cell_type": "code",
   "execution_count": null,
   "metadata": {},
   "outputs": [],
   "source": [
    "test_df = pd.DataFrame({'created_at': created_at_test_data, \n",
    "                        'id': ids_test_data, \n",
    "                        'entities/hashtags': hashtags_test_data,\n",
    "                        'user/id': user_ids_test_data})"
   ]
  },
  {
   "cell_type": "code",
   "execution_count": null,
   "metadata": {},
   "outputs": [],
   "source": [
    "test_df.head()"
   ]
  },
  {
   "cell_type": "code",
   "execution_count": null,
   "metadata": {},
   "outputs": [],
   "source": [
    "test_df.to_csv('/Users/tanujpankaj/Desktop/dsc180a/DSC180A-Replication1/test/testdata/tweets.csv', index=False)"
   ]
  },
  {
   "cell_type": "code",
   "execution_count": null,
   "metadata": {},
   "outputs": [],
   "source": [
    "test_df = pd.read_csv('/Users/tanujpankaj/Desktop/dsc180a/DSC180A-Replication1/test/testdata/tweets.csv')\n",
    "test_df.head()"
   ]
  },
  {
   "cell_type": "code",
   "execution_count": null,
   "metadata": {},
   "outputs": [],
   "source": [
    "type(test_df['entities/hashtags'][0])"
   ]
  },
  {
   "cell_type": "markdown",
   "metadata": {},
   "source": [
    "# User Tweets"
   ]
  },
  {
   "cell_type": "code",
   "execution_count": null,
   "metadata": {},
   "outputs": [],
   "source": [
    "hashtags_user_test_data = []\n",
    "hts = [\n",
    "    ['hoax', 'trump', 'cnn'],\n",
    "    ['hoax', 'trump'],\n",
    "    ['wuHaNviRus', 'trump', 'socialdistancing'],\n",
    "    ['coronavirus', 'StayAtHome', 'socialdistancing']\n",
    "]\n",
    "    \n",
    "for i in range(len(hts)):\n",
    "    lst = []\n",
    "    for j in range(len(hts[i])):\n",
    "        lst.append({'text': hts[i][j], 'indices': [0, 1]})\n",
    "    hashtags_user_test_data.append(str(lst))\n",
    "hashtags_user_test_data"
   ]
  },
  {
   "cell_type": "code",
   "execution_count": null,
   "metadata": {},
   "outputs": [],
   "source": [
    "ids_test_data = [\n",
    "    25,\n",
    "    26,\n",
    "    27,\n",
    "    28,\n",
    "]\n",
    "len(ids_test_data)"
   ]
  },
  {
   "cell_type": "code",
   "execution_count": null,
   "metadata": {},
   "outputs": [],
   "source": [
    "i = \"99381285\"\n",
    "user_ids_test_data = [i]*4"
   ]
  },
  {
   "cell_type": "code",
   "execution_count": null,
   "metadata": {},
   "outputs": [],
   "source": [
    "created_at_test_data = [\n",
    "    'Sun Mar 22 05:52:00 +0000 2020',\n",
    "    'Sun Mar 22 05:52:00 +0000 2020',\n",
    "    'Mon Mar 23 05:52:00 +0000 2020',\n",
    "    'Mon Mar 23 05:52:00 +0000 2020'\n",
    "]\n",
    "len(created_at_test_data)"
   ]
  },
  {
   "cell_type": "code",
   "execution_count": null,
   "metadata": {},
   "outputs": [],
   "source": [
    "user_test_df = pd.DataFrame({'entities/hashtags': hashtags_user_test_data,\n",
    "                             'id': ids_test_data,\n",
    "                             'created_at': created_at_test_data,\n",
    "                             'user/id': user_ids_test_data})\n",
    "user_test_df"
   ]
  },
  {
   "cell_type": "code",
   "execution_count": null,
   "metadata": {},
   "outputs": [],
   "source": [
    "user_test_df.to_csv('/Users/tanujpankaj/Desktop/dsc180a/DSC180A-Replication1/test/testdata/user_{}_tweets.csv'.format(i), index=False)"
   ]
  },
  {
   "cell_type": "code",
   "execution_count": null,
   "metadata": {},
   "outputs": [],
   "source": [
    "pd.read_csv('/Users/tanujpankaj/Desktop/dsc180a/DSC180A-Replication1/test/testdata/user_{}_tweets.csv'.format(i)).head()"
   ]
  },
  {
   "cell_type": "code",
   "execution_count": null,
   "metadata": {},
   "outputs": [],
   "source": [
    "df = pd.read_csv('/Users/tanujpankaj/Desktop/dsc180a/data/data.csv')"
   ]
  },
  {
   "cell_type": "markdown",
   "metadata": {},
   "source": [
    "# Tweet"
   ]
  },
  {
   "cell_type": "code",
   "execution_count": null,
   "metadata": {},
   "outputs": [],
   "source": [
    "i = \"3298920492\"\n",
    "cats = ['username', 'text', 'favorite_count', 'retweet_count', 'user_ids']\n",
    "data = ['@Wade_Doe', 'This is a sample tweet.', 50, 5, [\"99381285\"]]\n",
    "df = pd.DataFrame({'cat': cats, 'data': data})\n",
    "df"
   ]
  },
  {
   "cell_type": "code",
   "execution_count": null,
   "metadata": {},
   "outputs": [],
   "source": [
    "df.to_csv('/Users/tanujpankaj/Desktop/dsc180a/DSC180A-Replication1/test/testdata/tweet_{}.csv'.format(i))"
   ]
  },
  {
   "cell_type": "code",
   "execution_count": null,
   "metadata": {},
   "outputs": [],
   "source": [
    "df = pd.read_csv('/Users/tanujpankaj/Desktop/dsc180a/DSC180A-Replication1/test/testdata/tweet_{}.csv'.format(i),\n",
    "                usecols=['cat', 'data'])"
   ]
  },
  {
   "cell_type": "code",
   "execution_count": null,
   "metadata": {},
   "outputs": [],
   "source": [
    "df"
   ]
  },
  {
   "cell_type": "code",
   "execution_count": null,
   "metadata": {},
   "outputs": [],
   "source": []
  }
 ],
 "metadata": {
  "kernelspec": {
   "display_name": "Python 3",
   "language": "python",
   "name": "python3"
  },
  "language_info": {
   "codemirror_mode": {
    "name": "ipython",
    "version": 3
   },
   "file_extension": ".py",
   "mimetype": "text/x-python",
   "name": "python",
   "nbconvert_exporter": "python",
   "pygments_lexer": "ipython3",
   "version": "3.7.6"
  }
 },
 "nbformat": 4,
 "nbformat_minor": 4
}
