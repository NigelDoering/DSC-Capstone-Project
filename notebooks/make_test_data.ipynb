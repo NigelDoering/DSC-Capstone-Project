{
 "cells": [
  {
   "cell_type": "code",
   "execution_count": null,
   "metadata": {},
   "outputs": [],
   "source": [
    "import pandas as pd\n",
    "import matplotlib.pyplot as plt\n",
    "import os\n",
    "import seaborn as sns\n",
    "import re\n",
    "import sys\n",
    "import json\n",
    "from IPython.display import Image, display\n",
    "import pickle"
   ]
  },
  {
   "cell_type": "markdown",
   "metadata": {},
   "source": [
    "## Tweets"
   ]
  },
  {
   "cell_type": "code",
   "execution_count": null,
   "metadata": {
    "scrolled": true
   },
   "outputs": [],
   "source": [
    "created_at_test_data = [\n",
    "    'Sun Mar 22 05:52:00 +0000 2020',\n",
    "    'Sun Mar 22 05:52:00 +0000 2020',\n",
    "    'Mon Mar 23 05:52:00 +0000 2020',\n",
    "    'Mon Mar 23 05:52:00 +0000 2020',\n",
    "    'Mon Mar 23 05:52:00 +0000 2020',\n",
    "    'Tue Mar 24 05:52:00 +0000 2020',\n",
    "]*2\n",
    "len(created_at_test_data)"
   ]
  },
  {
   "cell_type": "code",
   "execution_count": null,
   "metadata": {},
   "outputs": [],
   "source": [
    "ids_test_data = [\n",
    "    25,\n",
    "    26,\n",
    "    27,\n",
    "    28,\n",
    "    29,\n",
    "    32,\n",
    "    33,\n",
    "    34,\n",
    "    35,\n",
    "    36,\n",
    "    37,\n",
    "    38,\n",
    "]\n",
    "len(ids_test_data)"
   ]
  },
  {
   "cell_type": "code",
   "execution_count": null,
   "metadata": {},
   "outputs": [],
   "source": [
    "user_ids_test_data = [\n",
    "    14,\n",
    "    14,\n",
    "    12,\n",
    "    15,\n",
    "    16,\n",
    "    16,\n",
    "    17,\n",
    "    18,\n",
    "    18,\n",
    "    19,\n",
    "    20,\n",
    "    25\n",
    "]"
   ]
  },
  {
   "cell_type": "code",
   "execution_count": null,
   "metadata": {},
   "outputs": [],
   "source": [
    "hashtags_test_data = []\n",
    "hts = [\n",
    "    ['hoax', 'trump', 'cnn', ],\n",
    "    ['hoax', 'trump'],\n",
    "    ['wuHaNviRus', 'trump', 'socialdistancing'],\n",
    "    ['chInAvirUs', 'trump'],\n",
    "    ['coronavirus', 'cnn', 'StayAtHome'],\n",
    "    ['coronavirus', 'trump', 'cnn', 'StayAtHome'],\n",
    "    ['coronavirus', 'trump', 'cnn', 'StayAtHome'],\n",
    "    ['coronavirus', 'StayAtHome'],\n",
    "    ['coronavirus', 'StayAtHome', 'socialdistancing'],\n",
    "    ['coronavirus', 'StayAtHome'],\n",
    "    ['coronavirus', 'StayAtHome'],\n",
    "    ['coronavirus','StayAtHome']\n",
    "]\n",
    "    \n",
    "for i in range(len(hts)):\n",
    "    lst = []\n",
    "    for j in range(len(hts[i])):\n",
    "        lst.append({'text': hts[i][j], 'indices': [0, 1]})\n",
    "    hashtags_test_data.append(str(lst))\n",
    "hashtags_test_data"
   ]
  },
  {
   "cell_type": "code",
   "execution_count": null,
   "metadata": {},
   "outputs": [],
   "source": [
    "test_df = pd.DataFrame({'entities/hashtags': hashtags_test_data,\n",
    "                        'id': ids_test_data, \n",
    "                        'created_at': created_at_test_data, \n",
    "                        'user/id': user_ids_test_data})"
   ]
  },
  {
   "cell_type": "code",
   "execution_count": null,
   "metadata": {},
   "outputs": [],
   "source": [
    "test_df.head()"
   ]
  },
  {
   "cell_type": "code",
   "execution_count": null,
   "metadata": {},
   "outputs": [],
   "source": [
    "test_df.to_csv('/Users/tanujpankaj/Desktop/dsc180/DSC-Capstone-Project/test/testdata/data.csv', index=False)"
   ]
  },
  {
   "cell_type": "markdown",
   "metadata": {},
   "source": [
    "## User tweets"
   ]
  },
  {
   "cell_type": "code",
   "execution_count": null,
   "metadata": {},
   "outputs": [],
   "source": [
    "ids_test_data = [3, 6, 9, 15]\n",
    "len(ids_test_data)"
   ]
  },
  {
   "cell_type": "code",
   "execution_count": null,
   "metadata": {},
   "outputs": [],
   "source": [
    "created_at_test_data = [\n",
    "    'Sun Mar 22 05:52:00 +0000 2020',\n",
    "    'Sun Mar 22 05:52:00 +0000 2020',\n",
    "    'Mon Mar 23 05:52:00 +0000 2020',\n",
    "    'Mon Mar 23 05:52:00 +0000 2020']\n",
    "len(created_at_test_data)"
   ]
  },
  {
   "cell_type": "code",
   "execution_count": null,
   "metadata": {},
   "outputs": [],
   "source": [
    "text = [\n",
    "    'hello',\n",
    "    'goodbye',\n",
    "    'goodmorning',\n",
    "    'superbowl'\n",
    "]\n",
    "len(text)"
   ]
  },
  {
   "cell_type": "code",
   "execution_count": null,
   "metadata": {},
   "outputs": [],
   "source": [
    "hashtags_test_data = []\n",
    "hts = [\n",
    "    ['covid19' ],\n",
    "    ['hoax', 'trump'],\n",
    "    ['wuHaNviRus', 'trump', 'socialdistancing'],\n",
    "    ['vaccine']\n",
    "]\n",
    "    \n",
    "for i in range(len(hts)):\n",
    "    lst = []\n",
    "    for j in range(len(hts[i])):\n",
    "        lst.append({'text': hts[i][j], 'indices': [0, 1]})\n",
    "    hashtags_test_data.append(str(lst))\n",
    "len(hashtags_test_data)"
   ]
  },
  {
   "cell_type": "code",
   "execution_count": null,
   "metadata": {},
   "outputs": [],
   "source": [
    "test_df = pd.DataFrame({'id': ids_test_data, \n",
    "                        'created_at': created_at_test_data, \n",
    "                        'text': text,\n",
    "                    'entities/hashtags': hashtags_test_data})"
   ]
  },
  {
   "cell_type": "code",
   "execution_count": null,
   "metadata": {},
   "outputs": [],
   "source": [
    "test_df.to_csv('/Users/tanujpankaj/Desktop/dsc180/DSC-Capstone-Project/test/testdata/user_0_tweets.csv', index=False)"
   ]
  },
  {
   "cell_type": "markdown",
   "metadata": {},
   "source": [
    "## Tweet info"
   ]
  },
  {
   "cell_type": "code",
   "execution_count": null,
   "metadata": {},
   "outputs": [],
   "source": [
    "tweet_info = {\n",
    "            'id': 342,\n",
    "            'created_at': 'Sun Mar 22 05:52:00 +0000 2020',\n",
    "            'user/id': 5234,\n",
    "            'text': 'ewkfekwjfkew',\n",
    "            'entities/hashtags': {}\n",
    "        } \n",
    "user_ids = {}\n",
    "for user_id in [0]:\n",
    "    user_ids[user_id] = None\n",
    "    # user_ids.append(retweet.user.id)\n",
    "tweet_info['user_ids'] = user_ids\n",
    "\n",
    "fn = '/Users/tanujpankaj/Desktop/dsc180/DSC-Capstone-Project/test/testdata/tweet_323.csv'\n",
    "f = open(fn, 'wb')\n",
    "pickle.dump(tweet_info, f)\n",
    "f.close()"
   ]
  },
  {
   "cell_type": "code",
   "execution_count": null,
   "metadata": {},
   "outputs": [],
   "source": []
  }
 ],
 "metadata": {
  "kernelspec": {
   "display_name": "Python 3",
   "language": "python",
   "name": "python3"
  },
  "language_info": {
   "codemirror_mode": {
    "name": "ipython",
    "version": 3
   },
   "file_extension": ".py",
   "mimetype": "text/x-python",
   "name": "python",
   "nbconvert_exporter": "python",
   "pygments_lexer": "ipython3",
   "version": "3.7.6"
  }
 },
 "nbformat": 4,
 "nbformat_minor": 4
}
