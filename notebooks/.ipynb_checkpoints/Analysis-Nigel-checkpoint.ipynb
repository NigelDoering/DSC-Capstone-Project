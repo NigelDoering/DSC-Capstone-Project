{
 "cells": [
  {
   "cell_type": "code",
   "execution_count": 53,
   "metadata": {},
   "outputs": [],
   "source": [
    "import pandas as pd\n",
    "import numpy as np\n",
    "from scipy import stats"
   ]
  },
  {
   "cell_type": "code",
   "execution_count": 10,
   "metadata": {},
   "outputs": [
    {
     "data": {
      "text/html": [
       "<div>\n",
       "<style scoped>\n",
       "    .dataframe tbody tr th:only-of-type {\n",
       "        vertical-align: middle;\n",
       "    }\n",
       "\n",
       "    .dataframe tbody tr th {\n",
       "        vertical-align: top;\n",
       "    }\n",
       "\n",
       "    .dataframe thead th {\n",
       "        text-align: right;\n",
       "    }\n",
       "</style>\n",
       "<table border=\"1\" class=\"dataframe\">\n",
       "  <thead>\n",
       "    <tr style=\"text-align: right;\">\n",
       "      <th></th>\n",
       "      <th>Unnamed: 0</th>\n",
       "      <th>tweet_id</th>\n",
       "      <th>tweet_text</th>\n",
       "      <th>user/name</th>\n",
       "      <th>user_id</th>\n",
       "      <th>n_tweets</th>\n",
       "      <th>flagged</th>\n",
       "      <th>pol_rightness</th>\n",
       "      <th>credibility</th>\n",
       "      <th>moderacy</th>\n",
       "    </tr>\n",
       "  </thead>\n",
       "  <tbody>\n",
       "    <tr>\n",
       "      <th>0</th>\n",
       "      <td>0</td>\n",
       "      <td>1346674133111865347</td>\n",
       "      <td>The steal is in the making in Georgia. Wait fo...</td>\n",
       "      <td>TomiLahren</td>\n",
       "      <td>1276954908848197633</td>\n",
       "      <td>7</td>\n",
       "      <td>True</td>\n",
       "      <td>-1.428571</td>\n",
       "      <td>1.714286</td>\n",
       "      <td>0.428571</td>\n",
       "    </tr>\n",
       "    <tr>\n",
       "      <th>2</th>\n",
       "      <td>2</td>\n",
       "      <td>1346674133111865347</td>\n",
       "      <td>The steal is in the making in Georgia. Wait fo...</td>\n",
       "      <td>TomiLahren</td>\n",
       "      <td>984139126558539776</td>\n",
       "      <td>315</td>\n",
       "      <td>True</td>\n",
       "      <td>-0.063492</td>\n",
       "      <td>2.285714</td>\n",
       "      <td>1.666667</td>\n",
       "    </tr>\n",
       "    <tr>\n",
       "      <th>3</th>\n",
       "      <td>3</td>\n",
       "      <td>1346674133111865347</td>\n",
       "      <td>The steal is in the making in Georgia. Wait fo...</td>\n",
       "      <td>TomiLahren</td>\n",
       "      <td>888424614732353536</td>\n",
       "      <td>4</td>\n",
       "      <td>True</td>\n",
       "      <td>-0.750000</td>\n",
       "      <td>2.250000</td>\n",
       "      <td>0.750000</td>\n",
       "    </tr>\n",
       "    <tr>\n",
       "      <th>4</th>\n",
       "      <td>4</td>\n",
       "      <td>1346674133111865347</td>\n",
       "      <td>The steal is in the making in Georgia. Wait fo...</td>\n",
       "      <td>TomiLahren</td>\n",
       "      <td>1034539618472013825</td>\n",
       "      <td>60</td>\n",
       "      <td>True</td>\n",
       "      <td>0.483333</td>\n",
       "      <td>2.566667</td>\n",
       "      <td>1.133333</td>\n",
       "    </tr>\n",
       "    <tr>\n",
       "      <th>5</th>\n",
       "      <td>5</td>\n",
       "      <td>1346674133111865347</td>\n",
       "      <td>The steal is in the making in Georgia. Wait fo...</td>\n",
       "      <td>TomiLahren</td>\n",
       "      <td>435283445</td>\n",
       "      <td>112</td>\n",
       "      <td>True</td>\n",
       "      <td>-0.964286</td>\n",
       "      <td>3.196429</td>\n",
       "      <td>1.250000</td>\n",
       "    </tr>\n",
       "  </tbody>\n",
       "</table>\n",
       "</div>"
      ],
      "text/plain": [
       "   Unnamed: 0             tweet_id  \\\n",
       "0           0  1346674133111865347   \n",
       "2           2  1346674133111865347   \n",
       "3           3  1346674133111865347   \n",
       "4           4  1346674133111865347   \n",
       "5           5  1346674133111865347   \n",
       "\n",
       "                                          tweet_text   user/name  \\\n",
       "0  The steal is in the making in Georgia. Wait fo...  TomiLahren   \n",
       "2  The steal is in the making in Georgia. Wait fo...  TomiLahren   \n",
       "3  The steal is in the making in Georgia. Wait fo...  TomiLahren   \n",
       "4  The steal is in the making in Georgia. Wait fo...  TomiLahren   \n",
       "5  The steal is in the making in Georgia. Wait fo...  TomiLahren   \n",
       "\n",
       "               user_id  n_tweets  flagged  pol_rightness  credibility  \\\n",
       "0  1276954908848197633         7     True      -1.428571     1.714286   \n",
       "2   984139126558539776       315     True      -0.063492     2.285714   \n",
       "3   888424614732353536         4     True      -0.750000     2.250000   \n",
       "4  1034539618472013825        60     True       0.483333     2.566667   \n",
       "5            435283445       112     True      -0.964286     3.196429   \n",
       "\n",
       "   moderacy  \n",
       "0  0.428571  \n",
       "2  1.666667  \n",
       "3  0.750000  \n",
       "4  1.133333  \n",
       "5  1.250000  "
      ]
     },
     "execution_count": 10,
     "metadata": {},
     "output_type": "execute_result"
    }
   ],
   "source": [
    "polarities = pd.read_csv(\"./polarities.csv\").dropna()\n",
    "polarities.head()"
   ]
  },
  {
   "cell_type": "code",
   "execution_count": 11,
   "metadata": {},
   "outputs": [
    {
     "data": {
      "text/plain": [
       "array(['TomiLahren'], dtype=object)"
      ]
     },
     "execution_count": 11,
     "metadata": {},
     "output_type": "execute_result"
    }
   ],
   "source": [
    "polarities['user/name'].unique()"
   ]
  },
  {
   "cell_type": "code",
   "execution_count": 50,
   "metadata": {},
   "outputs": [
    {
     "data": {
      "text/plain": [
       "True     92\n",
       "False    92\n",
       "Name: flagged, dtype: int64"
      ]
     },
     "execution_count": 50,
     "metadata": {},
     "output_type": "execute_result"
    }
   ],
   "source": [
    "polarities['flagged'].value_counts()"
   ]
  },
  {
   "cell_type": "markdown",
   "metadata": {},
   "source": [
    "### Test 1\n",
    "I will perform a permutation test for each dimension. That is, for one dimension I will calculate the difference between the sample means for all polarity scores for the flagged tweets group and then for the unflagged tweets groups. I will define the test statistic as the difference between those two means. I will then shuffle the flagged/unflagged labels and then recalculate the statistic. I will do this 100 times then calculate the p value.  \n",
    "  \n",
    "**Permutation Test:**  \n",
    "  \n",
    "Test Statistic: Define the test statistic as the difference between the sample means for the flagged and unflagged group for one dimension  \n",
    "  \n",
    "Null Hypothesis: There is no difference in the polarity scores between the flagged and unflagged groups  \n",
    "  \n",
    "Alternative Hypothesis: There is some difference in the polarity scores"
   ]
  },
  {
   "cell_type": "code",
   "execution_count": 51,
   "metadata": {},
   "outputs": [],
   "source": [
    "# Defining functions for use in permutation test\n",
    "def mean_diff(data, dim):\n",
    "    return np.mean(data[data['flagged'] == True][dim]) - np.mean(data[data['flagged'] == False][dim])\n",
    "\n",
    "def permutation_test(data, n_reps, dim):\n",
    "    # Observed statistic\n",
    "    obs = mean_diff(data, dim)\n",
    "    \n",
    "    # Running and permuting n_reps of the data\n",
    "    trials = []\n",
    "    for i in range(n_reps):\n",
    "        shuffled_impres = (\n",
    "            data['flagged']\n",
    "            .sample(replace=False, frac=1)\n",
    "            .reset_index(drop=True)\n",
    "        )\n",
    "        shuffled = (\n",
    "            data\n",
    "            .assign(**{'flagged': shuffled_impres})\n",
    "        )\n",
    "        trials.append(mean_diff(shuffled, dim))\n",
    "    return np.count_nonzero(np.array(trials) >= obs) / n_reps"
   ]
  },
  {
   "cell_type": "code",
   "execution_count": 52,
   "metadata": {},
   "outputs": [
    {
     "name": "stdout",
     "output_type": "stream",
     "text": [
      "Dimension: pol_rightness\n",
      "p-value: 0.464\n",
      "\n",
      "Dimension: credibility\n",
      "p-value: 0.138\n",
      "\n",
      "Dimension: moderacy\n",
      "p-value: 0.147\n",
      "\n"
     ]
    }
   ],
   "source": [
    "# First let's run the test for the political polarity\n",
    "data = polarities[['pol_rightness', 'credibility', 'moderacy', 'flagged']]\n",
    "outcomes = []\n",
    "dimensions = ['pol_rightness', 'credibility', 'moderacy']\n",
    "for dim in dimensions:\n",
    "    out = (dim, permutation_test(data, 1000, dim))\n",
    "    outcomes.append(out)\n",
    "    print('Dimension: ' + out[0])\n",
    "    print('p-value: ' + str(out[1]) + '\\n')"
   ]
  },
  {
   "cell_type": "markdown",
   "metadata": {},
   "source": [
    "**Evaluating:**  \n",
    "The break down of the tests for each dimension is reported above. Notice that for the credibility and the moderacy dimensions, there is a more significant difference between the two groups than there is for the poltical dimension. Hopefully with more data this becomes more apparent. "
   ]
  },
  {
   "cell_type": "markdown",
   "metadata": {},
   "source": [
    "### Test 2\n",
    "We will compare the data for each dimension using a t-test. Under this test we assume the data is normally distributed with the same variance. We will perform a two-sided test between the flagged and unflagged group for each dimension.  \n",
    "  \n",
    "**Two-sided t-test**  "
   ]
  },
  {
   "cell_type": "code",
   "execution_count": 69,
   "metadata": {},
   "outputs": [
    {
     "name": "stdout",
     "output_type": "stream",
     "text": [
      "Dimension: pol_rightness\n",
      "p-value: Ttest_indResult(statistic=0.12437084200509717, pvalue=0.901158914705918)\n",
      "\n",
      "Dimension: credibility\n",
      "p-value: Ttest_indResult(statistic=1.0745057457763338, pvalue=0.2840185413250386)\n",
      "\n",
      "Dimension: moderacy\n",
      "p-value: Ttest_indResult(statistic=1.0379457199142221, pvalue=0.3006723391616353)\n",
      "\n"
     ]
    }
   ],
   "source": [
    "outcomes = []\n",
    "for dim in dimensions:\n",
    "    flagged = data[data['flagged'] == True][dim]\n",
    "    unflagged = data[data['flagged'] == False][dim]\n",
    "    out = (dim, stats.ttest_ind(flagged, unflagged, equal_var=True))\n",
    "    outcomes.append(out)\n",
    "    print('Dimension: ' + out[0])\n",
    "    print('p-value: ' + str(out[1]) + '\\n')"
   ]
  },
  {
   "cell_type": "markdown",
   "metadata": {},
   "source": [
    "**Outcome** \n",
    "We can see a very similar outcome as the permutation test, as we would expect. Next we will test the one-sided t-test for both groups"
   ]
  },
  {
   "cell_type": "markdown",
   "metadata": {},
   "source": [
    "### Test 3\n",
    "We will test whether flagged group has statistically significantly higher or lower polarity scores than the unflagged group for both dimensions. We will use a one-sided t-test.  \n",
    "**One-sided t-test**"
   ]
  },
  {
   "cell_type": "code",
   "execution_count": 76,
   "metadata": {},
   "outputs": [
    {
     "name": "stdout",
     "output_type": "stream",
     "text": [
      "Dimension: pol_rightness\n",
      "p-value: 0.062185421002548584\n",
      "Test Statistic: 0.901158914705918\n",
      "\n",
      "Dimension: credibility\n",
      "p-value: 0.5372528728881669\n",
      "Test Statistic: 0.2840185413250386\n",
      "\n",
      "Dimension: moderacy\n",
      "p-value: 0.5189728599571111\n",
      "Test Statistic: 0.3006723391616353\n",
      "\n"
     ]
    }
   ],
   "source": [
    "outcomes = []\n",
    "for dim in dimensions:\n",
    "    flagged = data[data['flagged'] == True][dim]\n",
    "    unflagged = data[data['flagged'] == False][dim]\n",
    "    out = (dim, stats.ttest_ind(flagged, unflagged, equal_var=True))\n",
    "    outcomes.append(out)\n",
    "    print('Dimension: ' + out[0])\n",
    "    print('p-value: ' + str(out[1][0]/2))\n",
    "    print('Test Statistic: ' + str(out[1][1]) + '\\n')"
   ]
  },
  {
   "cell_type": "markdown",
   "metadata": {},
   "source": [
    "**Outcome**  \n",
    "First, let alpha = 0.1. Next, we can derive the outcome of the one-sided as the flagged polarities are significantly greater than the unflagged polarities if the p-value < alpha and the test statistic is > 0. Likewise if the test statistic is < 0 then it means the flagged polarities are significantly lesser than the unflagged polarities. Notice here that while there is no statistically significant outcome for the moderacy and credibility dimensions, we can see that the political polarity of users who retweeted a flagged tweet is statistically significantly greater than those of the users who retweeted an unflagged tweet. This is what we would expect since the tweets being flagged are coming from a user who is generally aligned with right wing views so the users that are interacting with a flagged tweet tend to have a higher polarity tending towards the right.  "
   ]
  },
  {
   "cell_type": "code",
   "execution_count": null,
   "metadata": {},
   "outputs": [],
   "source": []
  }
 ],
 "metadata": {
  "kernelspec": {
   "display_name": "Python 3",
   "language": "python",
   "name": "python3"
  },
  "language_info": {
   "codemirror_mode": {
    "name": "ipython",
    "version": 3
   },
   "file_extension": ".py",
   "mimetype": "text/x-python",
   "name": "python",
   "nbconvert_exporter": "python",
   "pygments_lexer": "ipython3",
   "version": "3.6.12"
  }
 },
 "nbformat": 4,
 "nbformat_minor": 4
}
